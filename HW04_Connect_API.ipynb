{
  "nbformat": 4,
  "nbformat_minor": 0,
  "metadata": {
    "colab": {
      "provenance": [],
      "authorship_tag": "ABX9TyM4MU3/93Fb98h1rbP4Wzo0",
      "include_colab_link": true
    },
    "kernelspec": {
      "name": "python3",
      "display_name": "Python 3"
    },
    "language_info": {
      "name": "python"
    }
  },
  "cells": [
    {
      "cell_type": "markdown",
      "metadata": {
        "id": "view-in-github",
        "colab_type": "text"
      },
      "source": [
        "<a href=\"https://colab.research.google.com/github/ohcartoon/python-projects/blob/main/HW04_Connect_API.ipynb\" target=\"_parent\"><img src=\"https://colab.research.google.com/assets/colab-badge.svg\" alt=\"Open In Colab\"/></a>"
      ]
    },
    {
      "cell_type": "markdown",
      "source": [
        "# Starwars API"
      ],
      "metadata": {
        "id": "-BXxvOQTPzPn"
      }
    },
    {
      "cell_type": "code",
      "execution_count": null,
      "metadata": {
        "colab": {
          "base_uri": "https://localhost:8080/"
        },
        "id": "plHlcBTmK1Fl",
        "outputId": "5b480cb1-2dd0-4edd-b105-171e7b83ab51"
      },
      "outputs": [
        {
          "output_type": "execute_result",
          "data": {
            "text/plain": [
              "{'name': 'Death Star',\n",
              " 'model': 'DS-1 Orbital Battle Station',\n",
              " 'manufacturer': 'Imperial Department of Military Research, Sienar Fleet Systems',\n",
              " 'cost_in_credits': '1000000000000',\n",
              " 'length': '120000',\n",
              " 'max_atmosphering_speed': 'n/a',\n",
              " 'crew': '342,953',\n",
              " 'passengers': '843,342',\n",
              " 'cargo_capacity': '1000000000000',\n",
              " 'consumables': '3 years',\n",
              " 'hyperdrive_rating': '4.0',\n",
              " 'MGLT': '10',\n",
              " 'starship_class': 'Deep Space Mobile Battlestation',\n",
              " 'pilots': [],\n",
              " 'films': ['https://swapi.dev/api/films/1/'],\n",
              " 'created': '2014-12-10T16:36:50.509000Z',\n",
              " 'edited': '2014-12-20T21:26:24.783000Z',\n",
              " 'url': 'https://swapi.dev/api/starships/9/'}"
            ]
          },
          "metadata": {},
          "execution_count": 1
        }
      ],
      "source": [
        "from requests import get\n",
        "\n",
        "url = \"https://swapi.dev/api/starships/9\"\n",
        "\n",
        "# response\n",
        "resp = get(url)\n",
        "\n",
        "## if ok, web status = 200\n",
        "resp.status_code\n",
        "\n",
        "## see information\n",
        "resp.json()"
      ]
    },
    {
      "cell_type": "code",
      "source": [
        "import requests\n",
        "import time\n",
        "\n",
        "starships = []\n",
        "\n",
        "for i in range(9, 15, 1):\n",
        "    url = f\"https://swapi.dev/api/starships/{i}\"\n",
        "    resp = requests.get(url)\n",
        "\n",
        "    if resp.status_code == 200:\n",
        "        json_data = resp.json()\n",
        "        starships.append(\n",
        "            (json_data[\"name\"],\n",
        "             json_data[\"model\"],\n",
        "             json_data[\"manufacturer\"])\n",
        "        )\n",
        "    else:\n",
        "        starships.append(\"Error\")\n",
        "\n",
        "    # break a second\n",
        "    time.sleep(1)\n",
        "\n",
        "print(starships)"
      ],
      "metadata": {
        "colab": {
          "base_uri": "https://localhost:8080/"
        },
        "id": "qxPgTurHK7E2",
        "outputId": "43398adb-e4ec-4f41-98b4-6ccc086b832f"
      },
      "execution_count": null,
      "outputs": [
        {
          "output_type": "stream",
          "name": "stdout",
          "text": [
            "[('Death Star', 'DS-1 Orbital Battle Station', 'Imperial Department of Military Research, Sienar Fleet Systems'), ('Millennium Falcon', 'YT-1300 light freighter', 'Corellian Engineering Corporation'), ('Y-wing', 'BTL Y-wing', 'Koensayr Manufacturing'), ('X-wing', 'T-65 X-wing', 'Incom Corporation'), ('TIE Advanced x1', 'Twin Ion Engine Advanced x1', 'Sienar Fleet Systems'), 'Error']\n"
          ]
        }
      ]
    },
    {
      "cell_type": "code",
      "source": [],
      "metadata": {
        "id": "GZjbTT6IP9AN"
      },
      "execution_count": null,
      "outputs": []
    }
  ]
}
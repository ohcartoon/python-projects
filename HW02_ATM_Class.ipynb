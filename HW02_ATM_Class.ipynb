{
  "nbformat": 4,
  "nbformat_minor": 0,
  "metadata": {
    "colab": {
      "provenance": [],
      "authorship_tag": "ABX9TyPIAUzCLhePaXrZ3yoUBdj2",
      "include_colab_link": true
    },
    "kernelspec": {
      "name": "python3",
      "display_name": "Python 3"
    },
    "language_info": {
      "name": "python"
    }
  },
  "cells": [
    {
      "cell_type": "markdown",
      "metadata": {
        "id": "view-in-github",
        "colab_type": "text"
      },
      "source": [
        "<a href=\"https://colab.research.google.com/github/ohcartoon/python-projects/blob/main/HW02_ATM_Class.ipynb\" target=\"_parent\"><img src=\"https://colab.research.google.com/assets/colab-badge.svg\" alt=\"Open In Colab\"/></a>"
      ]
    },
    {
      "cell_type": "markdown",
      "source": [
        "# ATM class with 5 methods"
      ],
      "metadata": {
        "id": "B7aATOx0QU4k"
      }
    },
    {
      "cell_type": "code",
      "execution_count": null,
      "metadata": {
        "id": "W6X6-7wJKjPG"
      },
      "outputs": [],
      "source": [
        "class ATM:\n",
        "    def __init__(self, firstname, lastname, account_number, id_number, balance):\n",
        "        self.firstname = firstname\n",
        "        self.lastname = lastname\n",
        "        self.account_number = account_number\n",
        "        self.id_number = id_number\n",
        "        self.balance = balance\n",
        "\n",
        "    # ATM methods\n",
        "    def deposit(self, amount):\n",
        "        print(\"--- Deposit ---\")\n",
        "        self.balance += amount\n",
        "        print(f\"Deposit successful\\nYour balance is: {self.balance}\")\n",
        "\n",
        "    def withdrawal(self, amount):\n",
        "        print(\"--- Withdrawal ---\")\n",
        "        if(amount > self.balance):\n",
        "            print(\"Insufficient balance.\")\n",
        "        else:\n",
        "            self.balance -= amount\n",
        "            print(f\"Withdrawal successful\\nYour balance is: {self.balance}\")\n",
        "\n",
        "    def transfer(self, recipient_account_number, amount):\n",
        "        print(\"--- Transfer ---\")\n",
        "        if(amount > self.balance):\n",
        "            print(\"Insufficient balance.\")\n",
        "        else:\n",
        "            self.balance -= amount\n",
        "            print(f\"Your transfer has been confirmed.\\nRecipient account: {recipient_account_number}\\nAmount to transfer: {amount}\\nYour balance is: {self.balance}\")\n",
        "\n",
        "    def pay_bill(self, bill_name, bill_amount):\n",
        "        print(\"--- Transfer ---\")\n",
        "        if(bill_amount > self.balance):\n",
        "            print(\"Insufficient balance.\")\n",
        "        else:\n",
        "            self.balance -= bill_amount\n",
        "            print(f\"Transaction successful.\\nAmount: {bill_amount}\\nFrom: {self.firstname} {self.lastname}\\nTo: {bill_name}\\nYour balance is: {self.balance}\")\n",
        "\n",
        "    def confirm_id(self, user_id):\n",
        "        print(\"--- Confirm ID ---\")\n",
        "        if(user_id == self.id_number):\n",
        "            print(\"ID Confirmed\")\n",
        "        else:\n",
        "            print(\"ID invalid. Try again!\")\n",
        "\n",
        "account1 = ATM(\"Jennie\", \"Kim\", \"000-1-2345-6\", \"1339998887776\", 1000000)"
      ]
    },
    {
      "cell_type": "code",
      "source": [
        "account1.deposit(10000)"
      ],
      "metadata": {
        "colab": {
          "base_uri": "https://localhost:8080/"
        },
        "id": "_bXH8FwbKygO",
        "outputId": "53b3fa35-f6eb-4ae6-a8b0-a4f3293498e9"
      },
      "execution_count": null,
      "outputs": [
        {
          "output_type": "stream",
          "name": "stdout",
          "text": [
            "--- Deposit ---\n",
            "Deposit successful\n",
            "Your balance is: 1010000\n"
          ]
        }
      ]
    },
    {
      "cell_type": "code",
      "source": [
        "account1.withdrawal(10000)"
      ],
      "metadata": {
        "colab": {
          "base_uri": "https://localhost:8080/"
        },
        "id": "KnrhTPOXOzEx",
        "outputId": "6c243bc6-4adb-4029-91ea-000c9e76fd5a"
      },
      "execution_count": null,
      "outputs": [
        {
          "output_type": "stream",
          "name": "stdout",
          "text": [
            "--- Withdrawal ---\n",
            "Withdrawal successful\n",
            "Your balance is: 1000000\n"
          ]
        }
      ]
    },
    {
      "cell_type": "code",
      "source": [
        "account1.transfer(\"0123456789\", 10000)"
      ],
      "metadata": {
        "colab": {
          "base_uri": "https://localhost:8080/"
        },
        "id": "dq0cW59oO1M8",
        "outputId": "dbbe5156-1d09-4cd5-b1e1-341b7ed671ea"
      },
      "execution_count": null,
      "outputs": [
        {
          "output_type": "stream",
          "name": "stdout",
          "text": [
            "--- Transfer ---\n",
            "Your transfer has been confirmed.\n",
            "Recipient account: 0123456789\n",
            "Amount to transfer: 10000\n",
            "Your balance is: 990000\n"
          ]
        }
      ]
    },
    {
      "cell_type": "code",
      "source": [
        "account1.pay_bill(\"Shopee\", 1000)"
      ],
      "metadata": {
        "colab": {
          "base_uri": "https://localhost:8080/"
        },
        "id": "mn9zkMpUO3VD",
        "outputId": "2301653f-d6f0-404c-a575-92ed3e26f025"
      },
      "execution_count": null,
      "outputs": [
        {
          "output_type": "stream",
          "name": "stdout",
          "text": [
            "--- Transfer ---\n",
            "Transaction successful.\n",
            "Amount: 1000\n",
            "From: Jennie Kim\n",
            "To: Shopee\n",
            "Your balance is: 989000\n"
          ]
        }
      ]
    },
    {
      "cell_type": "code",
      "source": [
        "account1.confirm_id(\"1339998887776\")"
      ],
      "metadata": {
        "colab": {
          "base_uri": "https://localhost:8080/"
        },
        "id": "rsrR23MMO5Tl",
        "outputId": "cf4e41b7-15fb-45bc-b1cf-ef5ccfe3cc3e"
      },
      "execution_count": null,
      "outputs": [
        {
          "output_type": "stream",
          "name": "stdout",
          "text": [
            "--- Confirm ID ---\n",
            "ID Confirmed\n"
          ]
        }
      ]
    },
    {
      "cell_type": "code",
      "source": [],
      "metadata": {
        "id": "buqBi7n6O6Pr"
      },
      "execution_count": null,
      "outputs": []
    }
  ]
}
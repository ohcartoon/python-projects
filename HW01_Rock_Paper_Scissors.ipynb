{
  "nbformat": 4,
  "nbformat_minor": 0,
  "metadata": {
    "colab": {
      "provenance": [],
      "include_colab_link": true
    },
    "kernelspec": {
      "name": "python3",
      "display_name": "Python 3"
    },
    "language_info": {
      "name": "python"
    }
  },
  "cells": [
    {
      "cell_type": "markdown",
      "metadata": {
        "id": "view-in-github",
        "colab_type": "text"
      },
      "source": [
        "<a href=\"https://colab.research.google.com/github/ohcartoon/python-projects/blob/main/HW01_Rock_Paper_Scissors.ipynb\" target=\"_parent\"><img src=\"https://colab.research.google.com/assets/colab-badge.svg\" alt=\"Open In Colab\"/></a>"
      ]
    },
    {
      "cell_type": "markdown",
      "source": [
        "# Rock Paper Scissors Game"
      ],
      "metadata": {
        "id": "bV0y5bbrQMxi"
      }
    },
    {
      "cell_type": "code",
      "execution_count": null,
      "metadata": {
        "colab": {
          "base_uri": "https://localhost:8080/"
        },
        "id": "Og6JFw2exTZf",
        "outputId": "cf15513f-6f3b-4faf-f200-6b1f8a6c76d7"
      },
      "outputs": [
        {
          "output_type": "stream",
          "name": "stdout",
          "text": [
            "Welcome to Rock Paper Scissors Game!\n",
            "\n",
            "Please select:\n",
            "r for rock, \n",
            "p for Paper, \n",
            "s for scissors\n",
            "\n",
            "If you want to exit the game, select 'quit'\n",
            "\n",
            "Your choice: s\n",
            "Bot's choice: r\n",
            "You lose!\n",
            "Your score: 0 and Bot score: 1\n",
            "Won: 0, | Lose: 1 | Draw: 0\n",
            "--------------------------------------------\n",
            "Your choice: s\n",
            "Bot's choice: p\n",
            "You win!\n",
            "Your score: 1 and Bot score: 1\n",
            "Won: 1, | Lose: 1 | Draw: 0\n",
            "--------------------------------------------\n",
            "Your choice: s\n",
            "Bot's choice: r\n",
            "You lose!\n",
            "Your score: 1 and Bot score: 2\n",
            "Won: 1, | Lose: 2 | Draw: 0\n",
            "--------------------------------------------\n",
            "Your choice: quit\n",
            "Bot's choice: p\n",
            "Bye bye. See you next time!\n"
          ]
        }
      ],
      "source": [
        "import random\n",
        "\n",
        "# greeting and instruction\n",
        "print(\"Welcome to Rock Paper Scissors Game!\\n\")\n",
        "print(\"Please select:\\nr for rock, \\np for Paper, \\ns for scissors\\n\")\n",
        "print(\"If you want to exit the game, select 'quit'\\n\")\n",
        "\n",
        "# Define the possible moves\n",
        "moves = [\"r\", \"p\", \"s\"]\n",
        "\n",
        "# Create a game function\n",
        "def play_game():\n",
        "\n",
        "# Initialize the player's and computer's scores\n",
        "    player_score = 0\n",
        "    bot_score = 0\n",
        "\n",
        "# The number of win, lose and draw times\n",
        "    won = 0\n",
        "    lose = 0\n",
        "    draw = 0\n",
        "\n",
        "# Play the game\n",
        "    while True:\n",
        "\n",
        "        # Get the player's choice\n",
        "        player_choice = input(\"Your choice: \").lower()\n",
        "\n",
        "        # Get the bot's choice\n",
        "        bot_choice = random.choice(moves)\n",
        "        print(f\"Bot's choice: {bot_choice}\")\n",
        "\n",
        "        # Compare the moves and determine the winner\n",
        "        if(player_choice == bot_choice):\n",
        "            print(\"Draw!\")\n",
        "            draw += 1\n",
        "\n",
        "            # Print total score\n",
        "            print(f\"Your score: {player_score} and Bot score: {bot_score}\")\n",
        "            print(f\"Won: {won}, | Lose: {lose} | Draw: {draw}\")\n",
        "            print(\"--------------------------------------------\")\n",
        "\n",
        "        elif(player_choice == \"r\"):\n",
        "            if(bot_choice == \"s\"):\n",
        "                print(\"You win!\")\n",
        "                player_score += 1\n",
        "                won += 1\n",
        "\n",
        "                # Print total score\n",
        "                print(f\"Your score: {player_score} and Bot score: {bot_score}\")\n",
        "                print(f\"Won: {won}, | Lose: {lose} | Draw: {draw}\")\n",
        "                print(\"--------------------------------------------\")\n",
        "\n",
        "            elif(bot_choice == \"p\"):\n",
        "                print(\"You lose!\")\n",
        "                bot_score += 1\n",
        "                lose += 1\n",
        "\n",
        "                # Print total score\n",
        "                print(f\"Your score: {player_score} and Bot score: {bot_score}\")\n",
        "                print(f\"Won: {won}, | Lose: {lose} | Draw: {draw}\")\n",
        "                print(\"--------------------------------------------\")\n",
        "\n",
        "        elif(player_choice == \"p\"):\n",
        "            if(bot_choice == \"r\"):\n",
        "                print(\"You win!\")\n",
        "                player_score += 1\n",
        "                won += 1\n",
        "\n",
        "                # Print total score\n",
        "                print(f\"Your score: {player_score} and Bot score: {bot_score}\")\n",
        "                print(f\"Won: {won}, | Lose: {lose} | Draw: {draw}\")\n",
        "                print(\"--------------------------------------------\")\n",
        "\n",
        "            elif(bot_choice == \"s\"):\n",
        "                print(\"You lose!\")\n",
        "                bot_score += 1\n",
        "                lose += 1\n",
        "\n",
        "                # Print total score\n",
        "                print(f\"Your score: {player_score} and Bot score: {bot_score}\")\n",
        "                print(f\"Won: {won}, | Lose: {lose} | Draw: {draw}\")\n",
        "                print(\"--------------------------------------------\")\n",
        "\n",
        "        elif(player_choice == \"s\"):\n",
        "            if(bot_choice == \"p\"):\n",
        "                print(\"You win!\")\n",
        "                player_score += 1\n",
        "                won += 1\n",
        "\n",
        "                # Print total score\n",
        "                print(f\"Your score: {player_score} and Bot score: {bot_score}\")\n",
        "                print(f\"Won: {won}, | Lose: {lose} | Draw: {draw}\")\n",
        "                print(\"--------------------------------------------\")\n",
        "\n",
        "            elif(bot_choice == \"r\"):\n",
        "                print(\"You lose!\")\n",
        "                bot_score += 1\n",
        "                lose += 1\n",
        "\n",
        "                # Print total score\n",
        "                print(f\"Your score: {player_score} and Bot score: {bot_score}\")\n",
        "                print(f\"Won: {won}, | Lose: {lose} | Draw: {draw}\")\n",
        "                print(\"--------------------------------------------\")\n",
        "\n",
        "        elif(player_choice == \"quit\"):\n",
        "            print(\"Bye bye. See you next time!\")\n",
        "            break\n",
        "\n",
        "        else:\n",
        "            print(\"Please check your spelling word. Try again!\")\n",
        "\n",
        "# Start the game\n",
        "play_game()"
      ]
    },
    {
      "cell_type": "code",
      "source": [],
      "metadata": {
        "id": "hJyfVftnLuCz"
      },
      "execution_count": null,
      "outputs": []
    }
  ]
}